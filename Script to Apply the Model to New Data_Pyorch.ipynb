{
 "cells": [
  {
   "cell_type": "markdown",
   "metadata": {},
   "source": [
    "### Demo to Apply the House Price Prediction Model "
   ]
  },
  {
   "cell_type": "code",
   "execution_count": null,
   "metadata": {},
   "outputs": [],
   "source": [
    "# A) Importing Libraries  \n",
    "\n",
    "import pandas as pd\n",
    "import joblib\n",
    "import torch\n",
    "from torch import nn\n",
    "from sklearn.metrics import mean_absolute_error, mean_squared_error, r2_score"
   ]
  },
  {
   "cell_type": "code",
   "execution_count": null,
   "metadata": {},
   "outputs": [],
   "source": [
    "# Define the original model architecture used during training to defines the structure of the neural network, including the types of layers\n",
    "class HousePriceModel(nn.Module):\n",
    "    def __init__(self, input_dim):\n",
    "        super(HousePriceModel, self).__init__()\n",
    "        self.fc1 = nn.Linear(input_dim, 512)  # Changed neurons\n",
    "        self.bn1 = nn.BatchNorm1d(512)  # Added Batch Normalization\n",
    "        self.dropout1 = nn.Dropout(0.3)  # Changed dropout\n",
    "        self.fc2 = nn.Linear(512, 256)\n",
    "        self.bn2 = nn.BatchNorm1d(256)\n",
    "        self.dropout2 = nn.Dropout(0.3)\n",
    "        self.fc3 = nn.Linear(256, 128)\n",
    "        self.bn3 = nn.BatchNorm1d(128)\n",
    "        self.dropout3 = nn.Dropout(0.3)\n",
    "        self.fc4 = nn.Linear(128, 64)\n",
    "        self.fc5 = nn.Linear(64, 1)  # We Can Added Another Layer\n",
    "\n",
    "    def forward(self, x):\n",
    "        x = torch.relu(self.bn1(self.fc1(x)))\n",
    "        x = self.dropout1(x)\n",
    "        x = torch.relu(self.bn2(self.fc2(x)))\n",
    "        x = self.dropout2(x)\n",
    "        x = torch.relu(self.bn3(self.fc3(x)))\n",
    "        x = self.dropout3(x)\n",
    "        x = torch.relu(self.fc4(x))\n",
    "        x = self.fc5(x)\n",
    "        return x\n"
   ]
  },
  {
   "cell_type": "code",
   "execution_count": null,
   "metadata": {},
   "outputs": [],
   "source": [
    "# Load the saved preprocessor and model\n",
    "preprocessor = joblib.load('preprocessor.pkl')\n",
    "\n",
    "# Load the new house data\n",
    "new_house_data = pd.read_csv('test2.csv')\n",
    "\n",
    "# Ensure the new house data has the same structure as the training data\n",
    "X_new_house = new_house_data.drop(columns=['ID'])\n",
    "\n",
    "# Preprocess the new house data\n",
    "X_new_house_preprocessed = preprocessor.transform(X_new_house)  # This may return a sparse matrix\n",
    "\n",
    "# Convert the sparse matrix to a dense matrix\n",
    "if hasattr(X_new_house_preprocessed, 'toarray'):\n",
    "    X_new_house_preprocessed = X_new_house_preprocessed.toarray()\n",
    "\n",
    "# Determine the input dimension\n",
    "input_dim = X_new_house_preprocessed.shape[1]\n",
    "\n",
    "# Initialize the model with the correct input dimension\n",
    "model = HousePriceModel(input_dim)\n",
    "model.load_state_dict(torch.load('house_price_model.pth'))\n",
    "model.eval()\n",
    "\n",
    "# Convert the preprocessed data to a PyTorch tensor\n",
    "X_new_house_tensor = torch.tensor(X_new_house_preprocessed.astype('float32'))\n",
    "\n",
    "# Predict the house price for the new house\n",
    "with torch.no_grad():\n",
    "    new_house_price_pred = model(X_new_house_tensor).numpy()\n",
    "\n",
    "# Add the prediction to the new house data\n",
    "new_house_data['SalePrice'] = new_house_price_pred\n",
    "\n",
    "# Save the predictions to a CSV file\n",
    "new_house_data.to_csv('New_House_Predicted_Price1.csv', index=False)\n",
    "\n",
    "# Display the predicted house price\n",
    "print(new_house_data[['ID', 'SalePrice']])\n",
    "\n",
    "# Define the Mean Absolute Percentage Error (MAPE) function\n",
    "def mean_absolute_percentage_error(y_true, y_pred):\n",
    "    return torch.mean(torch.abs((y_true - y_pred) / y_true)) * 100"
   ]
  },
  {
   "cell_type": "code",
   "execution_count": null,
   "metadata": {},
   "outputs": [],
   "source": [
    "# If the true sale prices are available in the new data, calculate the accuracy metrics\n",
    "if 'TrueSalePrice' in new_house_data.columns:\n",
    "    y_true = new_house_data['TrueSalePrice']\n",
    "    y_pred = new_house_data['SalePrice']\n",
    "    \n",
    "    mae = mean_absolute_error(y_true, y_pred)\n",
    "    mse = mean_squared_error(y_true, y_pred)\n",
    "    r2 = r2_score(y_true, y_pred)\n",
    "    \n",
    "    print(f'Mean Absolute Error (MAE): {mae}')\n",
    "    print(f'Mean Squared Error (MSE): {mse}')\n",
    "    print(f'R-squared (R²): {r2}')\n",
    "    \n",
    "    # Convert to tensors for MAPE calculation\n",
    "    y_true_tensor = torch.tensor(y_true.values.astype('float32'))\n",
    "    y_pred_tensor = torch.tensor(y_pred.values.astype('float32'))\n",
    "    \n",
    "    mape = mean_absolute_percentage_error(y_true_tensor, y_pred_tensor)\n",
    "    accuracy_rate = 100 - mape.item()  # Convert to accuracy percentage\n",
    "    \n",
    "    print(f'Accuracy Rate: {accuracy_rate:.2f}%')\n",
    "else:\n",
    "    print(\"True SalePrice values are not available. Unable to calculate accuracy metrics.\")"
   ]
  }
 ],
 "metadata": {
  "kernelspec": {
   "display_name": "Python 3",
   "language": "python",
   "name": "python3"
  },
  "language_info": {
   "codemirror_mode": {
    "name": "ipython",
    "version": 3
   },
   "file_extension": ".py",
   "mimetype": "text/x-python",
   "name": "python",
   "nbconvert_exporter": "python",
   "pygments_lexer": "ipython3",
   "version": "3.12.3"
  }
 },
 "nbformat": 4,
 "nbformat_minor": 2
}
